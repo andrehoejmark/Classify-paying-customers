{
 "cells": [
  {
   "cell_type": "code",
   "execution_count": 1,
   "metadata": {},
   "outputs": [],
   "source": [
    "import numpy as np\n",
    "import pandas as pd\n",
    "%matplotlib inline\n",
    "\n",
    "from sklearn.model_selection import train_test_split\n",
    "import matplotlib.pyplot as plt\n",
    "\n",
    "\n",
    "import random\n",
    "from pprint import pprint\n",
    "import os\n",
    "os.chdir(\"C:/Users/androgo/Downloads/Malmo univaersity/Artificial intelligence for data science-HT20/hand-in/shoppersMlProject\")\n",
    "\n",
    "from data_cleaning_functions import read_data, encode_label, standardize, remove_outliers\n",
    "from framework_utils import forest_train_test_split, calculate_accuracy\n",
    "from decision_forest_algorithms import forest_predict"
   ]
  },
  {
   "cell_type": "code",
   "execution_count": 2,
   "metadata": {},
   "outputs": [
    {
     "name": "stdout",
     "output_type": "stream",
     "text": [
      "1.203010025435482\n",
      "0.4405793194981748\n",
      "0.0\n",
      "nan\n",
      "nan\n",
      "nan\n",
      "nan\n",
      "nan\n",
      "nan\n",
      "nan\n",
      "nan\n",
      "nan\n",
      "nan\n",
      "nan\n",
      "nan\n",
      "nan\n",
      "nan\n",
      "nan\n"
     ]
    }
   ],
   "source": [
    "data_frame = read_data()\n",
    "encode_label(data_frame)\n",
    "data_frame_scaled = standardize(data_frame)\n",
    "remove_outliers(data_frame_scaled)\n",
    "data = data_frame_scaled.copy() # make a copy because data_frame_scaled gets modified by the forest algorithms\n",
    "\n",
    "#now use only data_frame_scaled"
   ]
  },
  {
   "cell_type": "markdown",
   "metadata": {},
   "source": [
    "Random Forest Start"
   ]
  },
  {
   "cell_type": "code",
   "execution_count": 3,
   "metadata": {},
   "outputs": [
    {
     "name": "stdout",
     "output_type": "stream",
     "text": [
      "Accuracy Random Forest = 0.873331162487789\n"
     ]
    },
    {
     "data": {
      "image/png": "[encoded data removed]",
      "text/plain": [
       "<Figure size 432x288 with 1 Axes>"
      ]
     },
     "metadata": {
      "needs_background": "light"
     },
     "output_type": "display_data"
    }
   ],
   "source": [
    "#We predict Revenue\n",
    "\n",
    "forest_predict(data_frame_scaled)"
   ]
  },
  {
   "cell_type": "markdown",
   "metadata": {},
   "source": [
    "Random Forest finished"
   ]
  },
  {
   "cell_type": "code",
   "execution_count": 4,
   "metadata": {},
   "outputs": [],
   "source": [
    "X = data\n",
    "X = X.drop(['Revenue'], axis=1); #Axis = 0 drops row and Axis=1 drops column\n",
    "y = data['Revenue']"
   ]
  },
  {
   "cell_type": "code",
   "execution_count": 5,
   "metadata": {},
   "outputs": [],
   "source": [
    "X_train, X_test, y_train, y_test = train_test_split(X,y,test_size=0.3,random_state = 211)"
   ]
  },
  {
   "cell_type": "code",
   "execution_count": 6,
   "metadata": {},
   "outputs": [],
   "source": [
    "from sklearn.model_selection import GridSearchCV\n",
    "'''\n",
    "param_grid = {\n",
    "    'n_estimators' : [60,75,90,115,130],\n",
    "    'max_depth' : [7,14,21,28],\n",
    "    'min_samples_leaf' : [1,2,3,4],\n",
    "    'min_samples_split': [2,4,6,8]\n",
    "}\n",
    "gridsearch = GridSearchCV(estimator=rfclf,param_grid=param_grid,verbose = 1)\n",
    "gridsearch.fit(x,y)\n",
    "''';"
   ]
  },
  {
   "cell_type": "markdown",
   "metadata": {},
   "source": [
    "# K-Nearest Neighbors"
   ]
  },
  {
   "cell_type": "code",
   "execution_count": 7,
   "metadata": {},
   "outputs": [
    {
     "name": "stdout",
     "output_type": "stream",
     "text": [
      "Neighbors: 1, test set accuracy: 0.8385345997286295\n",
      "Neighbors: 2, test set accuracy: 0.8637720488466757\n",
      "Neighbors: 3, test set accuracy: 0.8659430122116689\n",
      "Neighbors: 4, test set accuracy: 0.8694708276797829\n",
      "Neighbors: 5, test set accuracy: 0.8667571234735414\n",
      "Neighbors: 6, test set accuracy: 0.8713704206241519\n",
      "Neighbors: 7, test set accuracy: 0.8708276797829037\n",
      "Neighbors: 8, test set accuracy: 0.8705563093622795\n",
      "Neighbors: 9, test set accuracy: 0.8719131614654003\n",
      "Neighbors: 10, test set accuracy: 0.8740841248303934\n",
      "Neighbors: 11, test set accuracy: 0.8740841248303934\n"
     ]
    }
   ],
   "source": [
    "from sklearn.neighbors import KNeighborsClassifier\n",
    "\n",
    "num_neighbors = []\n",
    "accuracy = []\n",
    "\n",
    "for i in range(1,12):\n",
    "    \n",
    "    \n",
    "    model = KNeighborsClassifier(n_neighbors=i)\n",
    "    model.fit(X_train, y_train)\n",
    "    acc = model.score(X_test, y_test)\n",
    "    print(\"Neighbors: {}, test set accuracy: {}\".format(i, acc))\n",
    "    \n",
    "    num_neighbors.append(i)\n",
    "    accuracy.append(acc)\n",
    "    "
   ]
  },
  {
   "cell_type": "code",
   "execution_count": 8,
   "metadata": {},
   "outputs": [
    {
     "name": "stdout",
     "output_type": "stream",
     "text": [
      "10 Neighbors optimal\n"
     ]
    },
    {
     "data": {
      "image/png": "[encoded data removed]",
      "text/plain": [
       "<Figure size 432x288 with 1 Axes>"
      ]
     },
     "metadata": {
      "needs_background": "light"
     },
     "output_type": "display_data"
    }
   ],
   "source": [
    "plt.scatter(num_neighbors, accuracy)\n",
    "print(\"10 Neighbors optimal\")"
   ]
  }
 ],
 "metadata": {
  "kernelspec": {
   "display_name": "Python 3",
   "language": "python",
   "name": "python3"
  },
  "language_info": {
   "codemirror_mode": {
    "name": "ipython",
    "version": 3
   },
   "file_extension": ".py",
   "mimetype": "text/x-python",
   "name": "python",
   "nbconvert_exporter": "python",
   "pygments_lexer": "ipython3",
   "version": "3.8.3"
  }
 },
 "nbformat": 4,
 "nbformat_minor": 4
}
